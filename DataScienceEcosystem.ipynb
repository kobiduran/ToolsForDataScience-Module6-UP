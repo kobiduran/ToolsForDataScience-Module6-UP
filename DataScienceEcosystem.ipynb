{
 "cells": [
  {
   "cell_type": "markdown",
   "id": "89591e8a-ca20-4e4a-b06d-c929f38efd05",
   "metadata": {},
   "source": [
    "# Data Science Tools and Ecosystem"
   ]
  },
  {
   "cell_type": "markdown",
   "id": "3c043f48-0a57-46a4-a835-139dae3bc2b0",
   "metadata": {},
   "source": [
    "In this notebook, Data Science Tools and Ecosystem are summarized."
   ]
  },
  {
   "cell_type": "markdown",
   "id": "768d8b3d-9896-4c31-9cb0-bac9959a1527",
   "metadata": {},
   "source": [
    "**Objectives:**\n",
    "- List popular languages for Data Science\n",
    "- List commonly used libraries used by Data Scientists\n",
    "- List commonly used tools for Data Science\n",
    "- Evaluate arithmetic expressions in Python"
   ]
  },
  {
   "cell_type": "markdown",
   "id": "5e1c7a12-5116-4856-bb00-a648b9c8b7bb",
   "metadata": {},
   "source": [
    "Some of the popular languages that Data Scientists use are:\n",
    "1. Python\n",
    "2. R\n",
    "3. Julia\n",
    "4. SQL"
   ]
  },
  {
   "cell_type": "markdown",
   "id": "94f71275-cb53-45e7-8176-db387808cb22",
   "metadata": {},
   "source": [
    "Some of the commonly used libraries used by Data Scientists include:\n",
    "1. Pandas\n",
    "2. Scikit\n",
    "3. Matplotlib\n",
    "4. Numpy\n",
    "5. ggplot2"
   ]
  },
  {
   "cell_type": "markdown",
   "id": "905564fc-2b25-46e8-b625-4f0f25c4350f",
   "metadata": {},
   "source": [
    "| Data Science Tools |\n",
    "| - |\n",
    "| RStudio |\n",
    "| Jupyter Notebooks |\n",
    "| Anaconda Toolbox\n",
    "| GitHub |"
   ]
  },
  {
   "cell_type": "markdown",
   "id": "73d00f21-f395-49d8-9dc0-af45553d16df",
   "metadata": {},
   "source": [
    "### Below are a few examples of evaluating arithmetic expressions in Python..."
   ]
  },
  {
   "cell_type": "code",
   "execution_count": 3,
   "id": "59fd1e01-9774-4356-b006-d6eb1e675f0a",
   "metadata": {},
   "outputs": [
    {
     "name": "stdout",
     "output_type": "stream",
     "text": [
      "17\n"
     ]
    }
   ],
   "source": [
    "# This a simple arithmetic expression to mutiply then add integers\n",
    "x = (3*4)+5\n",
    "print(x)"
   ]
  },
  {
   "cell_type": "code",
   "execution_count": 4,
   "id": "d4b974f9-35c2-4a80-be97-8b6669533530",
   "metadata": {},
   "outputs": [
    {
     "name": "stdout",
     "output_type": "stream",
     "text": [
      "3.3333333333333335\n"
     ]
    }
   ],
   "source": [
    "# This will convert 200 minutes to hours by diving by 60\n",
    "min = 200\n",
    "hr = min/60\n",
    "print(hr)"
   ]
  },
  {
   "cell_type": "markdown",
   "id": "51b59f46-d09a-4cbe-b183-9dfd78ba680f",
   "metadata": {},
   "source": [
    "## Author\n",
    "Ulric Pattillo III"
   ]
  }
 ],
 "metadata": {
  "kernelspec": {
   "display_name": "Python [conda env:SerUlricEnv]",
   "language": "python",
   "name": "conda-env-SerUlricEnv-py"
  },
  "language_info": {
   "codemirror_mode": {
    "name": "ipython",
    "version": 3
   },
   "file_extension": ".py",
   "mimetype": "text/x-python",
   "name": "python",
   "nbconvert_exporter": "python",
   "pygments_lexer": "ipython3",
   "version": "3.13.5"
  }
 },
 "nbformat": 4,
 "nbformat_minor": 5
}
